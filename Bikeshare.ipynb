{
 "cells": [
  {
   "cell_type": "code",
   "execution_count": 1,
   "id": "welsh-acrobat",
   "metadata": {},
   "outputs": [
    {
     "name": "stderr",
     "output_type": "stream",
     "text": [
      "Matplotlib is building the font cache; this may take a moment.\n"
     ]
    }
   ],
   "source": [
    "import pandas as pd\n",
    "import numpy as np\n",
    "import matplotlib.pyplot as plt"
   ]
  },
  {
   "cell_type": "code",
   "execution_count": 2,
   "id": "electoral-habitat",
   "metadata": {},
   "outputs": [],
   "source": [
    "df_new_york = pd.read_csv(\"new_york_city.csv\")\n",
    "df_washington = pd.read_csv(\"washington.csv\")\n",
    "df_chicago = pd.read_csv(\"chicago.csv\")"
   ]
  },
  {
   "cell_type": "code",
   "execution_count": 3,
   "id": "architectural-hampshire",
   "metadata": {},
   "outputs": [
    {
     "data": {
      "text/html": [
       "<div>\n",
       "<style scoped>\n",
       "    .dataframe tbody tr th:only-of-type {\n",
       "        vertical-align: middle;\n",
       "    }\n",
       "\n",
       "    .dataframe tbody tr th {\n",
       "        vertical-align: top;\n",
       "    }\n",
       "\n",
       "    .dataframe thead th {\n",
       "        text-align: right;\n",
       "    }\n",
       "</style>\n",
       "<table border=\"1\" class=\"dataframe\">\n",
       "  <thead>\n",
       "    <tr style=\"text-align: right;\">\n",
       "      <th></th>\n",
       "      <th>Unnamed: 0</th>\n",
       "      <th>Start Time</th>\n",
       "      <th>End Time</th>\n",
       "      <th>Trip Duration</th>\n",
       "      <th>Start Station</th>\n",
       "      <th>End Station</th>\n",
       "      <th>User Type</th>\n",
       "      <th>Gender</th>\n",
       "      <th>Birth Year</th>\n",
       "    </tr>\n",
       "  </thead>\n",
       "  <tbody>\n",
       "    <tr>\n",
       "      <th>0</th>\n",
       "      <td>5688089</td>\n",
       "      <td>2017-06-11 14:55:05</td>\n",
       "      <td>2017-06-11 15:08:21</td>\n",
       "      <td>795</td>\n",
       "      <td>Suffolk St &amp; Stanton St</td>\n",
       "      <td>W Broadway &amp; Spring St</td>\n",
       "      <td>Subscriber</td>\n",
       "      <td>Male</td>\n",
       "      <td>1998.0</td>\n",
       "    </tr>\n",
       "    <tr>\n",
       "      <th>1</th>\n",
       "      <td>4096714</td>\n",
       "      <td>2017-05-11 15:30:11</td>\n",
       "      <td>2017-05-11 15:41:43</td>\n",
       "      <td>692</td>\n",
       "      <td>Lexington Ave &amp; E 63 St</td>\n",
       "      <td>1 Ave &amp; E 78 St</td>\n",
       "      <td>Subscriber</td>\n",
       "      <td>Male</td>\n",
       "      <td>1981.0</td>\n",
       "    </tr>\n",
       "    <tr>\n",
       "      <th>2</th>\n",
       "      <td>2173887</td>\n",
       "      <td>2017-03-29 13:26:26</td>\n",
       "      <td>2017-03-29 13:48:31</td>\n",
       "      <td>1325</td>\n",
       "      <td>1 Pl &amp; Clinton St</td>\n",
       "      <td>Henry St &amp; Degraw St</td>\n",
       "      <td>Subscriber</td>\n",
       "      <td>Male</td>\n",
       "      <td>1987.0</td>\n",
       "    </tr>\n",
       "    <tr>\n",
       "      <th>3</th>\n",
       "      <td>3945638</td>\n",
       "      <td>2017-05-08 19:47:18</td>\n",
       "      <td>2017-05-08 19:59:01</td>\n",
       "      <td>703</td>\n",
       "      <td>Barrow St &amp; Hudson St</td>\n",
       "      <td>W 20 St &amp; 8 Ave</td>\n",
       "      <td>Subscriber</td>\n",
       "      <td>Female</td>\n",
       "      <td>1986.0</td>\n",
       "    </tr>\n",
       "    <tr>\n",
       "      <th>4</th>\n",
       "      <td>6208972</td>\n",
       "      <td>2017-06-21 07:49:16</td>\n",
       "      <td>2017-06-21 07:54:46</td>\n",
       "      <td>329</td>\n",
       "      <td>1 Ave &amp; E 44 St</td>\n",
       "      <td>E 53 St &amp; 3 Ave</td>\n",
       "      <td>Subscriber</td>\n",
       "      <td>Male</td>\n",
       "      <td>1992.0</td>\n",
       "    </tr>\n",
       "  </tbody>\n",
       "</table>\n",
       "</div>"
      ],
      "text/plain": [
       "   Unnamed: 0           Start Time             End Time  Trip Duration  \\\n",
       "0     5688089  2017-06-11 14:55:05  2017-06-11 15:08:21            795   \n",
       "1     4096714  2017-05-11 15:30:11  2017-05-11 15:41:43            692   \n",
       "2     2173887  2017-03-29 13:26:26  2017-03-29 13:48:31           1325   \n",
       "3     3945638  2017-05-08 19:47:18  2017-05-08 19:59:01            703   \n",
       "4     6208972  2017-06-21 07:49:16  2017-06-21 07:54:46            329   \n",
       "\n",
       "             Start Station             End Station   User Type  Gender  \\\n",
       "0  Suffolk St & Stanton St  W Broadway & Spring St  Subscriber    Male   \n",
       "1  Lexington Ave & E 63 St         1 Ave & E 78 St  Subscriber    Male   \n",
       "2        1 Pl & Clinton St    Henry St & Degraw St  Subscriber    Male   \n",
       "3    Barrow St & Hudson St         W 20 St & 8 Ave  Subscriber  Female   \n",
       "4          1 Ave & E 44 St         E 53 St & 3 Ave  Subscriber    Male   \n",
       "\n",
       "   Birth Year  \n",
       "0      1998.0  \n",
       "1      1981.0  \n",
       "2      1987.0  \n",
       "3      1986.0  \n",
       "4      1992.0  "
      ]
     },
     "execution_count": 3,
     "metadata": {},
     "output_type": "execute_result"
    }
   ],
   "source": [
    "df_new_york.head()"
   ]
  },
  {
   "cell_type": "code",
   "execution_count": 4,
   "id": "african-german",
   "metadata": {},
   "outputs": [
    {
     "data": {
      "text/plain": [
       "(300000, 9)"
      ]
     },
     "execution_count": 4,
     "metadata": {},
     "output_type": "execute_result"
    }
   ],
   "source": [
    "df_new_york.shape"
   ]
  },
  {
   "cell_type": "code",
   "execution_count": 5,
   "id": "employed-twist",
   "metadata": {},
   "outputs": [
    {
     "data": {
      "text/plain": [
       "(300000, 7)"
      ]
     },
     "execution_count": 5,
     "metadata": {},
     "output_type": "execute_result"
    }
   ],
   "source": [
    "df_washington.shape"
   ]
  },
  {
   "cell_type": "code",
   "execution_count": 7,
   "id": "eligible-counter",
   "metadata": {},
   "outputs": [
    {
     "data": {
      "text/html": [
       "<div>\n",
       "<style scoped>\n",
       "    .dataframe tbody tr th:only-of-type {\n",
       "        vertical-align: middle;\n",
       "    }\n",
       "\n",
       "    .dataframe tbody tr th {\n",
       "        vertical-align: top;\n",
       "    }\n",
       "\n",
       "    .dataframe thead th {\n",
       "        text-align: right;\n",
       "    }\n",
       "</style>\n",
       "<table border=\"1\" class=\"dataframe\">\n",
       "  <thead>\n",
       "    <tr style=\"text-align: right;\">\n",
       "      <th></th>\n",
       "      <th>Unnamed: 0</th>\n",
       "      <th>Start Time</th>\n",
       "      <th>End Time</th>\n",
       "      <th>Trip Duration</th>\n",
       "      <th>Start Station</th>\n",
       "      <th>End Station</th>\n",
       "      <th>User Type</th>\n",
       "    </tr>\n",
       "  </thead>\n",
       "  <tbody>\n",
       "    <tr>\n",
       "      <th>0</th>\n",
       "      <td>1621326</td>\n",
       "      <td>2017-06-21 08:36:34</td>\n",
       "      <td>2017-06-21 08:44:43</td>\n",
       "      <td>489.066</td>\n",
       "      <td>14th &amp; Belmont St NW</td>\n",
       "      <td>15th &amp; K St NW</td>\n",
       "      <td>Subscriber</td>\n",
       "    </tr>\n",
       "    <tr>\n",
       "      <th>1</th>\n",
       "      <td>482740</td>\n",
       "      <td>2017-03-11 10:40:00</td>\n",
       "      <td>2017-03-11 10:46:00</td>\n",
       "      <td>402.549</td>\n",
       "      <td>Yuma St &amp; Tenley Circle NW</td>\n",
       "      <td>Connecticut Ave &amp; Yuma St NW</td>\n",
       "      <td>Subscriber</td>\n",
       "    </tr>\n",
       "    <tr>\n",
       "      <th>2</th>\n",
       "      <td>1330037</td>\n",
       "      <td>2017-05-30 01:02:59</td>\n",
       "      <td>2017-05-30 01:13:37</td>\n",
       "      <td>637.251</td>\n",
       "      <td>17th St &amp; Massachusetts Ave NW</td>\n",
       "      <td>5th &amp; K St NW</td>\n",
       "      <td>Subscriber</td>\n",
       "    </tr>\n",
       "    <tr>\n",
       "      <th>3</th>\n",
       "      <td>665458</td>\n",
       "      <td>2017-04-02 07:48:35</td>\n",
       "      <td>2017-04-02 08:19:03</td>\n",
       "      <td>1827.341</td>\n",
       "      <td>Constitution Ave &amp; 2nd St NW/DOL</td>\n",
       "      <td>M St &amp; Pennsylvania Ave NW</td>\n",
       "      <td>Customer</td>\n",
       "    </tr>\n",
       "    <tr>\n",
       "      <th>4</th>\n",
       "      <td>1481135</td>\n",
       "      <td>2017-06-10 08:36:28</td>\n",
       "      <td>2017-06-10 09:02:17</td>\n",
       "      <td>1549.427</td>\n",
       "      <td>Henry Bacon Dr &amp; Lincoln Memorial Circle NW</td>\n",
       "      <td>Maine Ave &amp; 7th St SW</td>\n",
       "      <td>Subscriber</td>\n",
       "    </tr>\n",
       "  </tbody>\n",
       "</table>\n",
       "</div>"
      ],
      "text/plain": [
       "   Unnamed: 0           Start Time             End Time  Trip Duration  \\\n",
       "0     1621326  2017-06-21 08:36:34  2017-06-21 08:44:43        489.066   \n",
       "1      482740  2017-03-11 10:40:00  2017-03-11 10:46:00        402.549   \n",
       "2     1330037  2017-05-30 01:02:59  2017-05-30 01:13:37        637.251   \n",
       "3      665458  2017-04-02 07:48:35  2017-04-02 08:19:03       1827.341   \n",
       "4     1481135  2017-06-10 08:36:28  2017-06-10 09:02:17       1549.427   \n",
       "\n",
       "                                 Start Station                   End Station  \\\n",
       "0                         14th & Belmont St NW                15th & K St NW   \n",
       "1                   Yuma St & Tenley Circle NW  Connecticut Ave & Yuma St NW   \n",
       "2               17th St & Massachusetts Ave NW                 5th & K St NW   \n",
       "3             Constitution Ave & 2nd St NW/DOL    M St & Pennsylvania Ave NW   \n",
       "4  Henry Bacon Dr & Lincoln Memorial Circle NW         Maine Ave & 7th St SW   \n",
       "\n",
       "    User Type  \n",
       "0  Subscriber  \n",
       "1  Subscriber  \n",
       "2  Subscriber  \n",
       "3    Customer  \n",
       "4  Subscriber  "
      ]
     },
     "execution_count": 7,
     "metadata": {},
     "output_type": "execute_result"
    }
   ],
   "source": [
    "df_washington.head()"
   ]
  },
  {
   "cell_type": "code",
   "execution_count": 6,
   "id": "generous-tradition",
   "metadata": {},
   "outputs": [
    {
     "data": {
      "text/plain": [
       "(300000, 9)"
      ]
     },
     "execution_count": 6,
     "metadata": {},
     "output_type": "execute_result"
    }
   ],
   "source": [
    "df_chicago.shape"
   ]
  },
  {
   "cell_type": "code",
   "execution_count": 8,
   "id": "sitting-demonstration",
   "metadata": {},
   "outputs": [
    {
     "data": {
      "text/html": [
       "<div>\n",
       "<style scoped>\n",
       "    .dataframe tbody tr th:only-of-type {\n",
       "        vertical-align: middle;\n",
       "    }\n",
       "\n",
       "    .dataframe tbody tr th {\n",
       "        vertical-align: top;\n",
       "    }\n",
       "\n",
       "    .dataframe thead th {\n",
       "        text-align: right;\n",
       "    }\n",
       "</style>\n",
       "<table border=\"1\" class=\"dataframe\">\n",
       "  <thead>\n",
       "    <tr style=\"text-align: right;\">\n",
       "      <th></th>\n",
       "      <th>Unnamed: 0</th>\n",
       "      <th>Start Time</th>\n",
       "      <th>End Time</th>\n",
       "      <th>Trip Duration</th>\n",
       "      <th>Start Station</th>\n",
       "      <th>End Station</th>\n",
       "      <th>User Type</th>\n",
       "      <th>Gender</th>\n",
       "      <th>Birth Year</th>\n",
       "    </tr>\n",
       "  </thead>\n",
       "  <tbody>\n",
       "    <tr>\n",
       "      <th>0</th>\n",
       "      <td>1423854</td>\n",
       "      <td>2017-06-23 15:09:32</td>\n",
       "      <td>2017-06-23 15:14:53</td>\n",
       "      <td>321</td>\n",
       "      <td>Wood St &amp; Hubbard St</td>\n",
       "      <td>Damen Ave &amp; Chicago Ave</td>\n",
       "      <td>Subscriber</td>\n",
       "      <td>Male</td>\n",
       "      <td>1992.0</td>\n",
       "    </tr>\n",
       "    <tr>\n",
       "      <th>1</th>\n",
       "      <td>955915</td>\n",
       "      <td>2017-05-25 18:19:03</td>\n",
       "      <td>2017-05-25 18:45:53</td>\n",
       "      <td>1610</td>\n",
       "      <td>Theater on the Lake</td>\n",
       "      <td>Sheffield Ave &amp; Waveland Ave</td>\n",
       "      <td>Subscriber</td>\n",
       "      <td>Female</td>\n",
       "      <td>1992.0</td>\n",
       "    </tr>\n",
       "    <tr>\n",
       "      <th>2</th>\n",
       "      <td>9031</td>\n",
       "      <td>2017-01-04 08:27:49</td>\n",
       "      <td>2017-01-04 08:34:45</td>\n",
       "      <td>416</td>\n",
       "      <td>May St &amp; Taylor St</td>\n",
       "      <td>Wood St &amp; Taylor St</td>\n",
       "      <td>Subscriber</td>\n",
       "      <td>Male</td>\n",
       "      <td>1981.0</td>\n",
       "    </tr>\n",
       "    <tr>\n",
       "      <th>3</th>\n",
       "      <td>304487</td>\n",
       "      <td>2017-03-06 13:49:38</td>\n",
       "      <td>2017-03-06 13:55:28</td>\n",
       "      <td>350</td>\n",
       "      <td>Christiana Ave &amp; Lawrence Ave</td>\n",
       "      <td>St. Louis Ave &amp; Balmoral Ave</td>\n",
       "      <td>Subscriber</td>\n",
       "      <td>Male</td>\n",
       "      <td>1986.0</td>\n",
       "    </tr>\n",
       "    <tr>\n",
       "      <th>4</th>\n",
       "      <td>45207</td>\n",
       "      <td>2017-01-17 14:53:07</td>\n",
       "      <td>2017-01-17 15:02:01</td>\n",
       "      <td>534</td>\n",
       "      <td>Clark St &amp; Randolph St</td>\n",
       "      <td>Desplaines St &amp; Jackson Blvd</td>\n",
       "      <td>Subscriber</td>\n",
       "      <td>Male</td>\n",
       "      <td>1975.0</td>\n",
       "    </tr>\n",
       "  </tbody>\n",
       "</table>\n",
       "</div>"
      ],
      "text/plain": [
       "   Unnamed: 0           Start Time             End Time  Trip Duration  \\\n",
       "0     1423854  2017-06-23 15:09:32  2017-06-23 15:14:53            321   \n",
       "1      955915  2017-05-25 18:19:03  2017-05-25 18:45:53           1610   \n",
       "2        9031  2017-01-04 08:27:49  2017-01-04 08:34:45            416   \n",
       "3      304487  2017-03-06 13:49:38  2017-03-06 13:55:28            350   \n",
       "4       45207  2017-01-17 14:53:07  2017-01-17 15:02:01            534   \n",
       "\n",
       "                   Start Station                   End Station   User Type  \\\n",
       "0           Wood St & Hubbard St       Damen Ave & Chicago Ave  Subscriber   \n",
       "1            Theater on the Lake  Sheffield Ave & Waveland Ave  Subscriber   \n",
       "2             May St & Taylor St           Wood St & Taylor St  Subscriber   \n",
       "3  Christiana Ave & Lawrence Ave  St. Louis Ave & Balmoral Ave  Subscriber   \n",
       "4         Clark St & Randolph St  Desplaines St & Jackson Blvd  Subscriber   \n",
       "\n",
       "   Gender  Birth Year  \n",
       "0    Male      1992.0  \n",
       "1  Female      1992.0  \n",
       "2    Male      1981.0  \n",
       "3    Male      1986.0  \n",
       "4    Male      1975.0  "
      ]
     },
     "execution_count": 8,
     "metadata": {},
     "output_type": "execute_result"
    }
   ],
   "source": [
    "df_chicago.head()"
   ]
  },
  {
   "cell_type": "code",
   "execution_count": 9,
   "id": "adaptive-postcard",
   "metadata": {},
   "outputs": [
    {
     "data": {
      "text/plain": [
       "Index(['Unnamed: 0', 'Start Time', 'End Time', 'Trip Duration',\n",
       "       'Start Station', 'End Station', 'User Type', 'Gender', 'Birth Year'],\n",
       "      dtype='object')"
      ]
     },
     "execution_count": 9,
     "metadata": {},
     "output_type": "execute_result"
    }
   ],
   "source": [
    "df_new_york.columns"
   ]
  },
  {
   "cell_type": "markdown",
   "id": "auburn-architect",
   "metadata": {},
   "source": [
    "## Practice problem 1"
   ]
  },
  {
   "cell_type": "markdown",
   "id": "conceptual-oracle",
   "metadata": {},
   "source": [
    "### Compute the most popular start hour"
   ]
  },
  {
   "cell_type": "code",
   "execution_count": 15,
   "id": "stable-onion",
   "metadata": {},
   "outputs": [],
   "source": [
    "df_chicago['start_time'] = pd.to_datetime(df_chicago['Start Time'])"
   ]
  },
  {
   "cell_type": "code",
   "execution_count": 16,
   "id": "satisfactory-divide",
   "metadata": {},
   "outputs": [],
   "source": [
    "df_chicago['hour'] = df_chicago.start_time.dt.hour"
   ]
  },
  {
   "cell_type": "code",
   "execution_count": 17,
   "id": "successful-collection",
   "metadata": {},
   "outputs": [],
   "source": [
    "popular_hour = df_chicago.hour.mode()[0]"
   ]
  },
  {
   "cell_type": "code",
   "execution_count": 18,
   "id": "attempted-karaoke",
   "metadata": {},
   "outputs": [
    {
     "name": "stdout",
     "output_type": "stream",
     "text": [
      "The Most Popular Start Hour is :  17\n"
     ]
    }
   ],
   "source": [
    "print(\"The Most Popular Start Hour is : \",popular_hour)"
   ]
  },
  {
   "cell_type": "code",
   "execution_count": 19,
   "id": "emerging-multimedia",
   "metadata": {},
   "outputs": [],
   "source": [
    "df_chicago['month'] = df_chicago.start_time.dt.month"
   ]
  },
  {
   "cell_type": "code",
   "execution_count": 20,
   "id": "negative-court",
   "metadata": {},
   "outputs": [
    {
     "name": "stderr",
     "output_type": "stream",
     "text": [
      "C:\\Users\\admin\\anaconda3\\envs\\ds\\lib\\site-packages\\ipykernel_launcher.py:1: FutureWarning: Series.dt.weekofyear and Series.dt.week have been deprecated.  Please use Series.dt.isocalendar().week instead.\n",
      "  \"\"\"Entry point for launching an IPython kernel.\n"
     ]
    }
   ],
   "source": [
    "df_chicago['week'] = df_chicago.start_time.dt.week"
   ]
  },
  {
   "cell_type": "code",
   "execution_count": 21,
   "id": "comparable-subcommittee",
   "metadata": {},
   "outputs": [],
   "source": [
    "df_chicago['day'] = df_chicago.start_time.dt.day"
   ]
  },
  {
   "cell_type": "code",
   "execution_count": 23,
   "id": "accessory-transcription",
   "metadata": {},
   "outputs": [
    {
     "name": "stdout",
     "output_type": "stream",
     "text": [
      "The Most Popular Start Day is :  18\n",
      "The Most Popular Start Week is :  25\n",
      "The Most Popular Start Month is :  6\n"
     ]
    }
   ],
   "source": [
    "popular_day = df_chicago.day.mode()[0]\n",
    "popular_week = df_chicago.week.mode()[0]\n",
    "popular_month = df_chicago.month.mode()[0]\n",
    "\n",
    "print(\"The Most Popular Start Day is : \",popular_day)\n",
    "print(\"The Most Popular Start Week is : \",popular_week)\n",
    "print(\"The Most Popular Start Month is : \",popular_month)"
   ]
  },
  {
   "cell_type": "markdown",
   "id": "authentic-glenn",
   "metadata": {},
   "source": [
    "## Practice problem 2"
   ]
  },
  {
   "cell_type": "markdown",
   "id": "modified-violin",
   "metadata": {},
   "source": [
    "### Display a Breakdown of User Types"
   ]
  },
  {
   "cell_type": "code",
   "execution_count": 24,
   "id": "acceptable-amsterdam",
   "metadata": {},
   "outputs": [
    {
     "data": {
      "text/plain": [
       "Subscriber    238889\n",
       "Customer       61110\n",
       "Dependent          1\n",
       "Name: User Type, dtype: int64"
      ]
     },
     "execution_count": 24,
     "metadata": {},
     "output_type": "execute_result"
    }
   ],
   "source": [
    "df_chicago['User Type'].value_counts()"
   ]
  },
  {
   "cell_type": "code",
   "execution_count": 25,
   "id": "wanted-mediterranean",
   "metadata": {},
   "outputs": [],
   "source": [
    "CITY_DATA = {'chicago':'chicago.csv',\n",
    "            \"new york city\" : 'new_york_city.csv',\n",
    "            'washington':\"washington.csv\"}"
   ]
  },
  {
   "cell_type": "code",
   "execution_count": 27,
   "id": "accurate-lunch",
   "metadata": {},
   "outputs": [
    {
     "data": {
      "text/plain": [
       "{'chicago': 'chicago.csv',\n",
       " 'new york city': 'new_york_city.csv',\n",
       " 'washington': 'washington.csv'}"
      ]
     },
     "execution_count": 27,
     "metadata": {},
     "output_type": "execute_result"
    }
   ],
   "source": [
    "CITY_DATA"
   ]
  },
  {
   "cell_type": "code",
   "execution_count": 72,
   "id": "consecutive-greenhouse",
   "metadata": {},
   "outputs": [],
   "source": [
    "def load_data(city,month,day):\n",
    "    df = pd.read_csv(CITY_DATA[city])\n",
    "    \n",
    "    df['Start Time'] = pd.to_datetime(df['Start Time'])\n",
    "    df['month'] = df['Start Time'].dt.month\n",
    "    df['day_of_week'] = df['Start Time'].dt.day_name()\n",
    "    df['hour'] = df['Start Time'].dt.hour\n",
    "    \n",
    "    if month != 'all':\n",
    "        months = ['january','february','march','april','may','june']\n",
    "        month = months.index(month) + 1 \n",
    "        df = df[df.month == month]\n",
    "        \n",
    "    if day != 'all':\n",
    "        df = df[df.day_of_week == day.title()]\n",
    "        \n",
    "    return df\n"
   ]
  },
  {
   "cell_type": "code",
   "execution_count": 73,
   "id": "funky-wonder",
   "metadata": {},
   "outputs": [],
   "source": [
    "df1 = load_data(\"chicago\", \"march\", 'friday')"
   ]
  },
  {
   "cell_type": "code",
   "execution_count": 74,
   "id": "running-purchase",
   "metadata": {},
   "outputs": [
    {
     "data": {
      "text/html": [
       "<div>\n",
       "<style scoped>\n",
       "    .dataframe tbody tr th:only-of-type {\n",
       "        vertical-align: middle;\n",
       "    }\n",
       "\n",
       "    .dataframe tbody tr th {\n",
       "        vertical-align: top;\n",
       "    }\n",
       "\n",
       "    .dataframe thead th {\n",
       "        text-align: right;\n",
       "    }\n",
       "</style>\n",
       "<table border=\"1\" class=\"dataframe\">\n",
       "  <thead>\n",
       "    <tr style=\"text-align: right;\">\n",
       "      <th></th>\n",
       "      <th>Unnamed: 0</th>\n",
       "      <th>Start Time</th>\n",
       "      <th>End Time</th>\n",
       "      <th>Trip Duration</th>\n",
       "      <th>Start Station</th>\n",
       "      <th>End Station</th>\n",
       "      <th>User Type</th>\n",
       "      <th>Gender</th>\n",
       "      <th>Birth Year</th>\n",
       "      <th>month</th>\n",
       "      <th>day_of_week</th>\n",
       "      <th>hour</th>\n",
       "    </tr>\n",
       "  </thead>\n",
       "  <tbody>\n",
       "    <tr>\n",
       "      <th>37</th>\n",
       "      <td>395803</td>\n",
       "      <td>2017-03-24 15:35:55</td>\n",
       "      <td>2017-03-24 15:46:10</td>\n",
       "      <td>615</td>\n",
       "      <td>Dearborn St &amp; Erie St</td>\n",
       "      <td>State St &amp; Van Buren St</td>\n",
       "      <td>Subscriber</td>\n",
       "      <td>Male</td>\n",
       "      <td>1989.0</td>\n",
       "      <td>3</td>\n",
       "      <td>Friday</td>\n",
       "      <td>15</td>\n",
       "    </tr>\n",
       "    <tr>\n",
       "      <th>93</th>\n",
       "      <td>395735</td>\n",
       "      <td>2017-03-24 15:32:04</td>\n",
       "      <td>2017-03-24 15:52:53</td>\n",
       "      <td>1249</td>\n",
       "      <td>Sedgwick St &amp; Webster Ave</td>\n",
       "      <td>Western Ave &amp; Winnebago Ave</td>\n",
       "      <td>Subscriber</td>\n",
       "      <td>Female</td>\n",
       "      <td>1964.0</td>\n",
       "      <td>3</td>\n",
       "      <td>Friday</td>\n",
       "      <td>15</td>\n",
       "    </tr>\n",
       "    <tr>\n",
       "      <th>175</th>\n",
       "      <td>395402</td>\n",
       "      <td>2017-03-24 15:10:29</td>\n",
       "      <td>2017-03-24 15:19:44</td>\n",
       "      <td>555</td>\n",
       "      <td>Franklin St &amp; Monroe St</td>\n",
       "      <td>Aberdeen St &amp; Monroe St</td>\n",
       "      <td>Subscriber</td>\n",
       "      <td>Male</td>\n",
       "      <td>1987.0</td>\n",
       "      <td>3</td>\n",
       "      <td>Friday</td>\n",
       "      <td>15</td>\n",
       "    </tr>\n",
       "    <tr>\n",
       "      <th>190</th>\n",
       "      <td>393400</td>\n",
       "      <td>2017-03-24 12:29:30</td>\n",
       "      <td>2017-03-24 12:48:56</td>\n",
       "      <td>1166</td>\n",
       "      <td>Southport Ave &amp; Wellington Ave</td>\n",
       "      <td>Lake Shore Dr &amp; North Blvd</td>\n",
       "      <td>Subscriber</td>\n",
       "      <td>Female</td>\n",
       "      <td>1984.0</td>\n",
       "      <td>3</td>\n",
       "      <td>Friday</td>\n",
       "      <td>12</td>\n",
       "    </tr>\n",
       "    <tr>\n",
       "      <th>198</th>\n",
       "      <td>427496</td>\n",
       "      <td>2017-03-31 08:25:53</td>\n",
       "      <td>2017-03-31 08:39:09</td>\n",
       "      <td>796</td>\n",
       "      <td>Clinton St &amp; Jackson Blvd</td>\n",
       "      <td>Racine Ave (May St) &amp; Fulton St</td>\n",
       "      <td>Subscriber</td>\n",
       "      <td>Male</td>\n",
       "      <td>1983.0</td>\n",
       "      <td>3</td>\n",
       "      <td>Friday</td>\n",
       "      <td>8</td>\n",
       "    </tr>\n",
       "  </tbody>\n",
       "</table>\n",
       "</div>"
      ],
      "text/plain": [
       "     Unnamed: 0          Start Time             End Time  Trip Duration  \\\n",
       "37       395803 2017-03-24 15:35:55  2017-03-24 15:46:10            615   \n",
       "93       395735 2017-03-24 15:32:04  2017-03-24 15:52:53           1249   \n",
       "175      395402 2017-03-24 15:10:29  2017-03-24 15:19:44            555   \n",
       "190      393400 2017-03-24 12:29:30  2017-03-24 12:48:56           1166   \n",
       "198      427496 2017-03-31 08:25:53  2017-03-31 08:39:09            796   \n",
       "\n",
       "                      Start Station                      End Station  \\\n",
       "37            Dearborn St & Erie St          State St & Van Buren St   \n",
       "93        Sedgwick St & Webster Ave      Western Ave & Winnebago Ave   \n",
       "175         Franklin St & Monroe St          Aberdeen St & Monroe St   \n",
       "190  Southport Ave & Wellington Ave       Lake Shore Dr & North Blvd   \n",
       "198       Clinton St & Jackson Blvd  Racine Ave (May St) & Fulton St   \n",
       "\n",
       "      User Type  Gender  Birth Year  month day_of_week  hour  \n",
       "37   Subscriber    Male      1989.0      3      Friday    15  \n",
       "93   Subscriber  Female      1964.0      3      Friday    15  \n",
       "175  Subscriber    Male      1987.0      3      Friday    15  \n",
       "190  Subscriber  Female      1984.0      3      Friday    12  \n",
       "198  Subscriber    Male      1983.0      3      Friday     8  "
      ]
     },
     "execution_count": 74,
     "metadata": {},
     "output_type": "execute_result"
    }
   ],
   "source": [
    "df1.head()"
   ]
  },
  {
   "cell_type": "code",
   "execution_count": null,
   "id": "subject-airfare",
   "metadata": {},
   "outputs": [],
   "source": []
  },
  {
   "cell_type": "code",
   "execution_count": null,
   "id": "welcome-journalism",
   "metadata": {},
   "outputs": [],
   "source": []
  },
  {
   "cell_type": "code",
   "execution_count": null,
   "id": "mobile-nightmare",
   "metadata": {},
   "outputs": [],
   "source": []
  }
 ],
 "metadata": {
  "kernelspec": {
   "display_name": "Python 3",
   "language": "python",
   "name": "python3"
  },
  "language_info": {
   "codemirror_mode": {
    "name": "ipython",
    "version": 3
   },
   "file_extension": ".py",
   "mimetype": "text/x-python",
   "name": "python",
   "nbconvert_exporter": "python",
   "pygments_lexer": "ipython3",
   "version": "3.6.12"
  }
 },
 "nbformat": 4,
 "nbformat_minor": 5
}
